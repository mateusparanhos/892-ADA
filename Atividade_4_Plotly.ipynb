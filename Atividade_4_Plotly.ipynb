{
  "cells": [
    {
      "cell_type": "markdown",
      "metadata": {
        "id": "view-in-github",
        "colab_type": "text"
      },
      "source": [
        "<a href=\"https://colab.research.google.com/github/mateusparanhos/892-ADA/blob/main/Atividade_4_Plotly.ipynb\" target=\"_parent\"><img src=\"https://colab.research.google.com/assets/colab-badge.svg\" alt=\"Open In Colab\"/></a>"
      ]
    },
    {
      "cell_type": "markdown",
      "metadata": {
        "id": "Mm0jn3h2wyiq"
      },
      "source": [
        "### Atividade"
      ]
    },
    {
      "cell_type": "markdown",
      "metadata": {
        "id": "t5dFD1NQxhyc"
      },
      "source": [
        "Resolver as questões abaixo. Em seguida, criar um repositório público no GitHub e armazenar no notebook criado, enviando somente o link do NOTEBOOK para o [Formulário](https://docs.google.com/forms/d/e/1FAIpQLSf8IUCLt4kowhHhB3SRQofE2I8NuXuDadBYjRHqUxgb3yWOaQ/viewform)."
      ]
    },
    {
      "cell_type": "code",
      "execution_count": null,
      "metadata": {
        "id": "90fTvZsOYdBS"
      },
      "outputs": [],
      "source": [
        "import numpy as np\n",
        "import pandas as pd\n",
        "import seaborn as sns\n",
        "import matplotlib.pyplot as plt\n",
        "import plotly.express as px\n"
      ]
    },
    {
      "cell_type": "markdown",
      "metadata": {
        "id": "xHZnoZLJyw68"
      },
      "source": [
        "#### Questão 1"
      ]
    },
    {
      "cell_type": "markdown",
      "metadata": {
        "id": "-tf603-EYwaR"
      },
      "source": [
        "Criar 2 vetores, um com uma série historica de anos de 1970 até 2022 e um segundo vetor com a mesma quantidade de observações e números inteiros aleatórios variando de 1 a 20000. Em seguida montar um gráfico com a melhor visualização para os dados com a biblioteca Plotly Express."
      ]
    },
    {
      "cell_type": "code",
      "execution_count": null,
      "metadata": {
        "id": "jJTZKOnh4dEa"
      },
      "outputs": [],
      "source": []
    },
    {
      "cell_type": "code",
      "execution_count": null,
      "metadata": {
        "id": "rhew6x5xxSni"
      },
      "outputs": [],
      "source": []
    },
    {
      "cell_type": "markdown",
      "metadata": {
        "id": "qHF6jaTSy1qg"
      },
      "source": [
        "#### Questão 2"
      ]
    },
    {
      "cell_type": "markdown",
      "metadata": {
        "id": "7F7zfc2RZLWW"
      },
      "source": [
        "Criar uma lista com as letras do alfabeto, depois um vetor com a mesma quantidade de observações e números inteiros aleatórios variando de 10 a 100. Em seguida montar um gráfico com a melhor visualização para os dados com a biblioteca Plotly Express.\n",
        "\n",
        "Utilize o objeto string para resolver a questão:\n",
        "\n",
        "```\n",
        "import string\n",
        "string.ascii_lowercase\n",
        "```"
      ]
    },
    {
      "cell_type": "code",
      "execution_count": null,
      "metadata": {
        "id": "QKATR4_o47Mj"
      },
      "outputs": [],
      "source": []
    },
    {
      "cell_type": "code",
      "execution_count": null,
      "metadata": {
        "id": "ATO8JBqPLUV0"
      },
      "outputs": [],
      "source": []
    },
    {
      "cell_type": "markdown",
      "metadata": {
        "id": "tov6vdyzy4jQ"
      },
      "source": [
        "#### Questão 3"
      ]
    },
    {
      "cell_type": "markdown",
      "metadata": {
        "id": "hzc9vJ5JR5pE"
      },
      "source": [
        "Criar 2 vetores com a mesma quantidade de observações, 500 registros , de números inteiros aleatórios, o primeiro variando de 1000 a 2000, o segundo variando de 5000 a 10000. Em seguida montar um gráfico com a melhor visualização para os dados com a biblioteca Plotly Express, demonstrando relação entre as variáveis."
      ]
    },
    {
      "cell_type": "code",
      "execution_count": null,
      "metadata": {
        "id": "d2xCL55851JU"
      },
      "outputs": [],
      "source": []
    },
    {
      "cell_type": "code",
      "execution_count": null,
      "metadata": {
        "id": "8yW0ly3DaYfn"
      },
      "outputs": [],
      "source": []
    },
    {
      "cell_type": "markdown",
      "metadata": {
        "id": "_CsMciDSy6Aa"
      },
      "source": [
        "#### Questão 4"
      ]
    },
    {
      "cell_type": "markdown",
      "metadata": {
        "id": "F6Ix1Je7d7D6"
      },
      "source": [
        "Criar uma vetor com 500 registros de números inteiros variando entre 125 e 857. Em seguida montar um gráfico que mostre a dispersão com a melhor visualização para os dados com a biblioteca Plotly Express."
      ]
    },
    {
      "cell_type": "code",
      "execution_count": null,
      "metadata": {
        "id": "37zoNA-t8LbF"
      },
      "outputs": [],
      "source": []
    },
    {
      "cell_type": "code",
      "execution_count": null,
      "metadata": {
        "id": "zWzQ7c7Qy6-0"
      },
      "outputs": [],
      "source": []
    },
    {
      "cell_type": "code",
      "execution_count": null,
      "metadata": {
        "id": "lxBpmzd48ZhK"
      },
      "outputs": [],
      "source": []
    }
  ],
  "metadata": {
    "colab": {
      "provenance": [],
      "include_colab_link": true
    },
    "kernelspec": {
      "display_name": "Python 3.8.10 ('venv': venv)",
      "language": "python",
      "name": "python3"
    },
    "language_info": {
      "codemirror_mode": {
        "name": "ipython",
        "version": 3
      },
      "file_extension": ".py",
      "mimetype": "text/x-python",
      "name": "python",
      "nbconvert_exporter": "python",
      "pygments_lexer": "ipython3",
      "version": "3.8.10"
    },
    "vscode": {
      "interpreter": {
        "hash": "6f1767cf6eb78e7cac90869a4e882a4809a2d6cb289cf39142f27ecd40682c1c"
      }
    }
  },
  "nbformat": 4,
  "nbformat_minor": 0
}